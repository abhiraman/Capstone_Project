{
  "nbformat": 4,
  "nbformat_minor": 0,
  "metadata": {
    "colab": {
      "name": "Image_to_text.ipynb",
      "provenance": [],
      "collapsed_sections": [],
      "include_colab_link": true
    },
    "kernelspec": {
      "name": "python3",
      "display_name": "Python 3"
    },
    "accelerator": "GPU"
  },
  "cells": [
    {
      "cell_type": "markdown",
      "metadata": {
        "id": "view-in-github",
        "colab_type": "text"
      },
      "source": [
        "<a href=\"https://colab.research.google.com/github/abhiraman/Capstone_Project/blob/main/Image_to_text.ipynb\" target=\"_parent\"><img src=\"https://colab.research.google.com/assets/colab-badge.svg\" alt=\"Open In Colab\"/></a>"
      ]
    },
    {
      "cell_type": "markdown",
      "metadata": {
        "id": "AoRxW_vyS-wm"
      },
      "source": [
        "# Importing Dependencies"
      ]
    },
    {
      "cell_type": "code",
      "metadata": {
        "id": "RgL9HQOg4YSY"
      },
      "source": [
        "import torch\n",
        "import torch.nn as nn\n",
        "import torch.optim as optim\n",
        "import cv2\n",
        "import os\n",
        "import matplotlib.pyplot as plt\n",
        "import random\n",
        "import numpy as np\n",
        "from matplotlib import font_manager\n",
        "import time\n",
        "from  torch.utils.data import Dataset,DataLoader \n",
        "import pandas as pd\n",
        "from torchvision import transforms\n",
        "from skimage import io\n",
        "from tqdm import tqdm\n",
        "from collections import OrderedDict"
      ],
      "execution_count": 78,
      "outputs": []
    },
    {
      "cell_type": "markdown",
      "metadata": {
        "id": "G0yXBOFhTDRj"
      },
      "source": [
        "Mounting Drive"
      ]
    },
    {
      "cell_type": "code",
      "metadata": {
        "colab": {
          "base_uri": "https://localhost:8080/"
        },
        "id": "7QDEIGxkJtvF",
        "outputId": "b1a121e3-6fc7-40ae-b87e-9f6788e64236"
      },
      "source": [
        "from google.colab import drive\n",
        "drive.mount('/gdrive')"
      ],
      "execution_count": 79,
      "outputs": [
        {
          "output_type": "stream",
          "text": [
            "Drive already mounted at /gdrive; to attempt to forcibly remount, call drive.mount(\"/gdrive\", force_remount=True).\n"
          ],
          "name": "stdout"
        }
      ]
    },
    {
      "cell_type": "code",
      "metadata": {
        "colab": {
          "base_uri": "https://localhost:8080/"
        },
        "id": "-v2vslK5J1TC",
        "outputId": "bf3e7c1a-fe54-411e-8c7d-b8da89a7ef2c"
      },
      "source": [
        "%cd /gdrive/MyDrive/Capstone_project_data/ImgtoText/Cropped_Images/cropped_data"
      ],
      "execution_count": 80,
      "outputs": [
        {
          "output_type": "stream",
          "text": [
            "/gdrive/MyDrive/Capstone_project_data/ImgtoText/Cropped_Images/cropped_data\n"
          ],
          "name": "stdout"
        }
      ]
    },
    {
      "cell_type": "code",
      "metadata": {
        "colab": {
          "base_uri": "https://localhost:8080/"
        },
        "id": "y-jngz9BLRjk",
        "outputId": "e77cbc4a-7945-4d02-dc54-f5b63fd93359"
      },
      "source": [
        "!ls"
      ],
      "execution_count": 81,
      "outputs": [
        {
          "output_type": "stream",
          "text": [
            "annotations.txt  cropped_dir  model_Text_Recognition.pt  readme.txt\n"
          ],
          "name": "stdout"
        }
      ]
    },
    {
      "cell_type": "code",
      "metadata": {
        "id": "NVpv9p1vLfQE"
      },
      "source": [
        "#!unzip TrainImages.zip"
      ],
      "execution_count": 82,
      "outputs": []
    },
    {
      "cell_type": "code",
      "metadata": {
        "colab": {
          "base_uri": "https://localhost:8080/"
        },
        "id": "z8di1fq11ZSy",
        "outputId": "b9ddbdcd-ee08-4cdd-98b7-8d80ce8b50e8"
      },
      "source": [
        "if torch.cuda.is_available():\n",
        "  MyDevice = torch.device(\"cuda\")\n",
        "else:\n",
        "  MyDevice = torch.device(\"cpu\")\n",
        "\n",
        "print(MyDevice)"
      ],
      "execution_count": 83,
      "outputs": [
        {
          "output_type": "stream",
          "text": [
            "cuda\n"
          ],
          "name": "stdout"
        }
      ]
    },
    {
      "cell_type": "markdown",
      "metadata": {
        "id": "0JNiAvFcvHiL"
      },
      "source": [
        "# Data Loader "
      ]
    },
    {
      "cell_type": "code",
      "metadata": {
        "id": "_s9uZxnrFdr7",
        "colab": {
          "base_uri": "https://localhost:8080/"
        },
        "outputId": "7b46cbb5-18b4-4a02-ae6f-4aa2aff1e21f"
      },
      "source": [
        "## All Hindi Alphabets ## \n",
        "all_hindi_alpha = [\" \"]+[chr(i) for i in range(2304,2432)]\n",
        "all_hindi_alpha = {all_hindi_alpha[i]:i for i in range(len(all_hindi_alpha))}\n",
        "print(all_hindi_alpha)\n",
        "print(len(all_hindi_alpha))"
      ],
      "execution_count": 84,
      "outputs": [
        {
          "output_type": "stream",
          "text": [
            "{' ': 0, 'ऀ': 1, 'ँ': 2, 'ं': 3, 'ः': 4, 'ऄ': 5, 'अ': 6, 'आ': 7, 'इ': 8, 'ई': 9, 'उ': 10, 'ऊ': 11, 'ऋ': 12, 'ऌ': 13, 'ऍ': 14, 'ऎ': 15, 'ए': 16, 'ऐ': 17, 'ऑ': 18, 'ऒ': 19, 'ओ': 20, 'औ': 21, 'क': 22, 'ख': 23, 'ग': 24, 'घ': 25, 'ङ': 26, 'च': 27, 'छ': 28, 'ज': 29, 'झ': 30, 'ञ': 31, 'ट': 32, 'ठ': 33, 'ड': 34, 'ढ': 35, 'ण': 36, 'त': 37, 'थ': 38, 'द': 39, 'ध': 40, 'न': 41, 'ऩ': 42, 'प': 43, 'फ': 44, 'ब': 45, 'भ': 46, 'म': 47, 'य': 48, 'र': 49, 'ऱ': 50, 'ल': 51, 'ळ': 52, 'ऴ': 53, 'व': 54, 'श': 55, 'ष': 56, 'स': 57, 'ह': 58, 'ऺ': 59, 'ऻ': 60, '़': 61, 'ऽ': 62, 'ा': 63, 'ि': 64, 'ी': 65, 'ु': 66, 'ू': 67, 'ृ': 68, 'ॄ': 69, 'ॅ': 70, 'ॆ': 71, 'े': 72, 'ै': 73, 'ॉ': 74, 'ॊ': 75, 'ो': 76, 'ौ': 77, '्': 78, 'ॎ': 79, 'ॏ': 80, 'ॐ': 81, '॑': 82, '॒': 83, '॓': 84, '॔': 85, 'ॕ': 86, 'ॖ': 87, 'ॗ': 88, 'क़': 89, 'ख़': 90, 'ग़': 91, 'ज़': 92, 'ड़': 93, 'ढ़': 94, 'फ़': 95, 'य़': 96, 'ॠ': 97, 'ॡ': 98, 'ॢ': 99, 'ॣ': 100, '।': 101, '॥': 102, '०': 103, '१': 104, '२': 105, '३': 106, '४': 107, '५': 108, '६': 109, '७': 110, '८': 111, '९': 112, '॰': 113, 'ॱ': 114, 'ॲ': 115, 'ॳ': 116, 'ॴ': 117, 'ॵ': 118, 'ॶ': 119, 'ॷ': 120, 'ॸ': 121, 'ॹ': 122, 'ॺ': 123, 'ॻ': 124, 'ॼ': 125, 'ॽ': 126, 'ॾ': 127, 'ॿ': 128}\n",
            "129\n"
          ],
          "name": "stdout"
        }
      ]
    },
    {
      "cell_type": "code",
      "metadata": {
        "id": "LsIk9mBxwhaQ"
      },
      "source": [
        "\n",
        "with open(\"annotations.txt\") as fh:\n",
        "  allLineList = fh.readlines()\n",
        "fh.close()\n",
        "labelGenerator = (allLineList[i].split('\\t')[1].strip('\\n') for i in range(0,len(allLineList)-1))\n",
        "labelGenerator = list(labelGenerator)"
      ],
      "execution_count": 85,
      "outputs": []
    },
    {
      "cell_type": "code",
      "metadata": {
        "id": "ylctp2CIw9gl",
        "colab": {
          "base_uri": "https://localhost:8080/"
        },
        "outputId": "f897a1a4-7a01-4e90-b7f5-4189f0aef3c5"
      },
      "source": [
        "print(labelGenerator)"
      ],
      "execution_count": 86,
      "outputs": [
        {
          "output_type": "stream",
          "text": [
            "['जल', 'शोध', 'न', 'संयंत्र', 'बिना', 'आज्ञा', 'प्रवेश', 'निषेध', 'नगर', 'पालिका', 'परिषद', 'इटारसी', 'जिला', 'होशंगाबाद', 'मप्र', 'स्वच्छ', 'भारत', 'स्वच्छ', 'भारत', 'अभियान', 'स्वच्छता', 'का', 'ध्यान', 'रखें', 'गंदगी', 'न', 'करें', 'शहर', 'को', 'खुले', 'में', 'शौच', 'से', 'मुक्त', 'कराना', 'है', 'शौचालय', 'का', 'उपयोग', 'करें', 'महिला', 'पुरुष', 'मूर्तिकार', 'राजदीप', 'सोनू', 'ॐ', 'ॐ', 'सुनील', 'लांड्री', '९७१३९७६५२०', 'शादी', 'कार्ड', 'संदीप', 'प्रिंटर्स', 'बुक', 'बाइंडिंग', 'मल्टीकलर', 'विजिटिंग', 'कार्ड', 'समस्त', 'छपाई', 'के', 'कार्य', 'सूचना', 'कार्यालय', 'के', 'सामने', 'वाहन', 'खड़ा', 'न', 'करें', 'अन्यथा', 'अर्थदंड', 'रू', 'व', 'न्यायिक', 'कार्यवाही', 'की', 'जावेगी', 'मुख्य', 'कल्याण', 'निरीक्षक', 'इटारसी', 'भारतीय', 'रेल', 'शुभ', 'बैटरी', 'चार्जर', 'रूम', 'राज', 'चाट', 'सेंटर', 'शिव', 'कंप्यूटर', 'सेल्स', 'एण्ड', 'सर्विस', 'शिव', 'पटैल', 'धूम्रपान', 'निषेध', 'रेल', 'परिसर', 'ट्रेन', 'में', 'धूम्रपान', 'तम्बाकू', 'का', 'सेवन', 'करना', 'रेल', 'अधिनियम', 'की', 'धारा', 'व', 'के', 'तहत', 'दण्डनीय', 'अपराध', 'है', 'हनुमान', 'धाम', 'दादा', 'की', 'जय', 'प्लेटफार्म', 'न', '४', 'व', 'सेल्फी', 'विथ', 'इटारसी', 'सरोवर', 'के', 'फेसबुक', 'पेज', 'को', 'लाइक', 'करे', 'एवं', 'उस', 'पर', 'अपनी', 'सेल्फी', 'डाले', 'प', 'मध्य', 'रेल', 'वृन्दावन', 'विहार', 'कालोनी', 'वर्मा', 'कालोनी', 'के', 'पीछे', 'फोटो', 'कापी', 'लेमिनेशन', 'चाय', 'एवं', 'स्वल्पाहार', 'रेल', 'आहार', 'इटारसी', 'जं', 'भगवान', 'नित्यानंद', 'संगीत', 'महा', 'विद्यालय', 'प्रयाग', 'संगीत', 'समिति', 'इलाहबाद', 'से', 'संबध्द', 'भोपाल', 'सहकारी', 'दुग्ध', 'संघ', 'मर्यादित', 'मुनाफा', 'नही', 'सेवा', 'लक्ष्य', 'एक', 'कदम', 'स्वच्छता', 'की', 'ओर', 'कृपया', 'कचरा', 'डस्टबिन', 'में', 'डाले', 'साँची', 'गुलाब', 'जामुन', 'रसगुल्ले', 'साँची', 'गुलाब', 'जामुन', 'रसगुल्ले', 'अगरबत्ती', 'दीपक', 'लाना', 'मना', 'है', 'प्रो', 'कृष्णमूर्ति', 'शिवलिगम', 'विभागाध्यक्ष', 'पमरे', 'आर', 'पी', 'एफ', 'इटारसी', 'यशो', 'लभस्व', 'आपकी', 'यात्रा', 'मंगलमय', 'हो', 'बैंक', 'ऑफ', 'बड़ोदा', 'भारत', 'का', 'अंतर्राष्ट्रीय', 'बैंक', 'चौपाटी', 'नगर', 'पालिका', 'परिषद', 'इटारसी', 'अंग्रेजी', 'शराब', 'दुकान', 'श्री', 'साई', 'स्टील', 'सरिया', 'सीमेंट', 'चादर', 'पाइप', 'दरवाजे', 'समस्त', 'हार्डववेयर', 'सामग्री', 'उपलब्ध', 'मो', 'स्वर्ण', 'आभूषणों', 'के', 'निर्माता', 'एवं', 'विक्रेता', 'सोनी', 'ट्रेडर्स', 'के', 'बाजू', 'में', 'लाइन', 'इटारसी', 'न्यू', 'जायसवाल', 'इलेक्ट्रॉनिक्स', 'कितना', 'जुर्माना', 'रखें', 'है', 'सरकार', 'रेल', 'परिसर', 'में', 'गंदगी', 'फैलने', 'पर', 'अरे', 'ओ', 'सम्भा', 'पूरे', 'पाँचसौ', 'रुपये', 'आओ', 'स्वच्छ', 'भारत', 'स्वस्थ', 'भारत', 'भारत', 'सुन्दर', 'इटारसी', 'सतर्कता', 'सप्ताह', 'आचरण', 'भ्रष्टाचार', 'मिटाओ', 'नया', 'भारत', 'बनाओ', 'दिनांक', 'से', 'शयनयान', 'आपातकालीन', 'खिड़की', 'इटारसी', 'टिकट', 'घर', 'टिकट', 'घर', 'टिकट', 'घर', 'सौजन्य', 'से', 'वरिष्ठ', 'नागरिक', 'संघ', 'पुरानी', 'इटारसी', 'भारतीय', 'रेल', 'नूपुर', 'डाँस', 'क्लास', 'दवाईयाँ', 'भवानी', 'मेडीकल', 'स्टोर्स', 'दीवान', 'कालोनी', 'इटारसी', 'मोबा', 'न', 'मध्य', 'कैलाश', 'चौबे', 'डेंटल', 'क्लिनिक', 'मुस्कुराईए', 'आप', 'इटारसी', 'में', 'है', 'जय', 'हनुमान', 'जी', 'स्टेशन', 'प्रबन्धक', 'स्टेशन', 'प्रबन्धक', 'भारतीय', 'रेल', 'भारतीय', 'रेल', 'श्री', 'कृष्णा', 'गिफ्ट', 'सेंटर', 'अनलिमिटेड', 'कॉल्स', 'डाटा', '१७९', 'वैधता', '२८', 'दिन', 'बेटी', 'बचाओ', 'बेटी', 'पढ़ाओ', 'बेटियों', 'को', 'सशक्त', 'बनाएं', 'उन्हें', 'समान', 'अधिकार', 'और', 'अवसर', 'दें', 'बेटी', 'बचाओ', 'बेटी', 'पढ़ाओ', 'बेटी', 'बेटी', 'बचाओ', 'पढ़ाओ', 'आरक्षण', 'चार्ट', 'फिटनेस', 'फाइन', 'वुमन', 'जिम', 'वृन्दावन', 'विहार', 'चौपाटी', 'नगर', 'पालिका', 'परिषद', 'इटारसी', 'नगरपालिका', 'परिषद', 'इटारसी', 'फायर', 'एण्ड', 'व्हीकल', 'फोन', 'नं', 'फायर', 'बिग्रेड', 'नगर', 'पालिका', 'परिषद', 'इटारसी', 'इटारसी', 'सरोवर', 'सुस्वागतम', 'इटारसी', 'इटारसी', 'जं', 'मितेश', 'खापरा', 'प', 'म', 'रेल', 'लोको', 'पायलट', 'एवं', 'परिचालक', 'लॉबी', 'इटारसी', 'रुकिये', 'होशंगाबाद', 'भोपाल', 'पिपरिया', 'पचमढी', 'डब्ल्यू', 'डी', 'पी', 'डी', 'कैब', 'समस्तीपुर', 'प्रतीक्षालय', 'प्रथम', 'श्रेणी', 'एवं', 'वातानुकुलित', 'कुर्सीयान', 'यात्रियों', 'के', 'लिये', 'नवीन', 'हेयर', 'आर्ट', 'पश्चिम', 'मध्य', 'रेल', 'भोपाल', 'मण्डल', 'स्वच्छ', 'भारत', 'मिशन', 'के', 'अन्तर्गत', 'राष्ट्रीय', 'स्वच्छता', 'सफाई', 'अभियान', 'भारतीय', 'रेल', 'देशी', 'शराब', 'दुकान', 'द्वितीय', 'जन', 'कुसी', 'यान', 'सूचना', 'पट', 'मुख्य', 'कल्याण', 'निरीक्षक', 'अनारक्षित', 'खिड़की', 'सूचना', 'पश्चिम', 'मध्य', 'भोपाल', 'मंडल', 'टिकट', 'जल', 'है', 'तो', 'कल', 'है', 'क्रं', 'पीने', 'का', 'पानी', 'विभागाध्यक्ष', 'कृष्णमूर्ति', 'शिवलिंगम', 'प्रशासनिक', 'कर्मचारी', 'रेलवे', 'स्वास्थ्य', 'केन्द्र', 'इटारसी', 'पमरे', 'कार्यालय', 'सहायक', 'मण्डल', 'अभियंता', 'कार्य', 'एवं', 'निर्माण', 'पश्चिम', 'मध्य', 'रेल', 'इटारसी', 'यह', 'आम', 'रास्ता', 'नहीं', 'है', 'मुस्कुराइये', 'आप', 'इटारसी', 'में', 'है', 'शुभम', 'होजयरी', 'न्यू', 'मार्केट', 'इटारसी', 'रुपेश', 'नासरे', 'भंडार', 'मार्ग', 'की', 'सड़क', 'सीमा', 'मे', 'अतिक्रमण', 'करना', 'दंडनीय', 'अफराध', 'है', 'आदेशानुसार', 'कार्यपालन', 'यंत्री', 'लो', 'नि', 'वि', 'संभाग', 'होशंगाबाद', 'नगर', 'परिषद', 'इटारसी', 'बेटी', 'बेटी', 'बचाओ', 'बेटी', 'नगर', 'पालिका', 'परिषद', 'इटारसी', 'कार्यालय', 'विद्युत', 'इंजन', 'पर्यवेक्षक', 'टी', 'आर', 'एस', 'इटारसी', 'बृजवासी', 'लेडीज', 'कलेक्शन', 'जॉन', 'अगस्टिन', 'जॉन', 'अगस्टिन', 'भोले', 'गंगा', 'बालक', 'मंडल', 'जय', 'श्री', 'राम', 'श्री', 'खेड़ापति', 'माता', 'मंदिर', 'साई', 'सेवा', 'समिति', 'सी', 'पी', 'गेट', 'पुरानी', 'इटारसी', 'भारतीय', 'रेल', 'ऊँ', 'श्री', 'लाफ', 'शुभ', 'बाहर', 'जय', 'हनुमान', 'जी', 'संस्कृति', 'मेडिकल', 'स्टोर्स', 'लिफ्ट', 'राधे', 'राधे', 'पान', 'सेन्टर', 'विश्वकर्मा', 'फर्नीचर', 'धूम्रपान', 'स्वास्थ्य', 'के', 'लिए', 'हानिकारक', 'है', 'बालाजी', 'वेल्डिंग', 'वर्क्स', 'आधुनिक', 'फर्नीचर', 'के', 'निर्माता', 'एवं', 'विक्रेता', 'ऑटो', 'श्री', 'शंकर', 'जनरल', 'स्टोर', 'सौन्दर्य', 'प्रसाधन', 'स्टेशनरी', 'टेलरिंग', 'मटेरियल', 'इटारसी', 'होशंगाबाद', 'बैतुल', 'नागपुर', '०१', '२०', '१००', '२६१', 'लो', 'दांतों', 'का', 'अस्पताल', 'तिरुपति', 'ट्रेडर्स', 'रेता', 'गिट्टी', 'मुरम', 'लोहा', 'सीमेंट', 'एवं', 'ऑल', 'बिल्डिंग', 'मटेरियल', 'सप्लायर', 'प्रो', 'निकलेश', 'तिवारी', 'निक्की', 'मो', 'प्रत्युष', 'कुमार', 'डिजाईनर', 'वाटर', 'कूलर', 'रूम', 'न्यू', 'संजय', 'भागड़ा', 'टोल', 'पार्टी', 'शादी', 'पार्टी', 'जन्मदिन', 'रिटायरमेंट', 'आदि', 'सामाजिक', 'कार्यो', 'के', 'लिए', 'डीजे', 'ढोल', 'लाइट', 'घोड़ा', 'बग्गी', 'आतिशबाजी', 'हेतु', 'संपर्क', 'करें', 'प्रो', 'संजय', 'सठेले', 'सठेले', 'अन्नु', 'पता', 'तवा', 'कॉलोनी', 'गगनमगन', 'होटल', 'के', 'सामने', 'इटारसीमप्र', 'मो', 'गरमा', 'गरम', 'चाय', 'कॉफी', 'वेस्ट', 'सेंट्रल', 'रेलवे', 'मजदूर', 'संघ', 'कैरिज', 'वैगन', 'लोको', 'रनिंग', 'शाखा', 'इटारसी', 'यहाँ', 'तेज़', 'फ्री', 'उपलब्द', 'है', 'नगर', 'पालिका', 'परिषद', 'इटारसी', 'आपका', 'स्वागत', 'करती', 'है', 'ॐ', 'श्वेता', 'पान', 'भंडार', 'प्रो', 'दिनेश', 'राजपूत', 'भावसार', 'पानी', 'पुरी', 'सेंटर', 'पानी', 'अग्निशमक', 'अन्दर', 'है', 'तरमणि', 'अथिति', 'गृह', 'छात्रावास', 'मध्य', 'प्रदेश', 'शासन', 'द्वारा', 'संचालित', 'साँची', 'मिल्क', 'पार्लर', 'शीतल', 'पेय', 'जल', 'जय', 'श्री', 'राम', 'बजरंग', 'चौराह', '३', 'बंगला', 'विश्व', 'हिन्दू', 'परिषद', 'बजरंग', 'दल', 'नगर', 'इटारसी', 'जिला', 'नर्मदापुरम', 'सेवा', 'सुरक्षा', 'संस्कार', 'विश्व', 'हिन्दू', 'परिषद', 'धर्मो', 'रक्षिति', 'रक्षितः', 'नगर', 'पालिका', 'परिषद्', 'इटारसी', 'जन', 'सुविधा', 'मूत्रयालय', 'बुनयादी', 'प्रशिक्षण', 'केंद्र', 'कै', 'वै', 'इटारसी', 'पश्चिम', 'मध्य', 'रेल', 'दुकान', 'शराब', 'अंग्रेजी', 'स्टेशन', 'सुंदर', 'बनें', 'यह', 'हम', 'सबकी', 'जिम्मेदारी', 'है', 'चोधरी', 'फर्नीचर', 'मार्ट', 'चोखट', 'खिड़की', 'दरवाजे', 'सोफा', 'पलंग', 'आदि', 'के', 'निर्माता', 'एवं', 'विक्रेता', 'प्यासा', 'नगर', 'जमनिरोड़', 'पु', 'इटारसी', 'प्रवेश', 'पेय', 'जल', 'जी', 'एल', 'फार्मा', 'दवाइयों', 'के', 'थोक', 'विक्रेता', 'श्री', 'ॐ', 'चाइनीज', 'सेन्टर', 'ड्राई', 'मंचूरियन', 'मंचूरियन', 'ग्रेबी', 'बरगर', 'चाउमीन', 'बड़ी', 'फ्राई', 'पाव', 'भाजी', 'बड़ी', 'फ्राइड', 'राइस', 'पास्ता', 'पश्चिम', 'मध्य', 'रेलवे', 'भोपाल', 'मंडल', 'बुनयादी', 'प्रशिक्षण', 'केंद्र', 'कैरिज', 'एवं', 'वैगन', 'इटारसी', 'मंदिर', 'परिसर', 'को', 'स्वच्छ', 'रखे', 'एवं', 'शांति', 'बनाये', 'रखे', 'सांई', 'समिति', 'पुइटारसी', 'वॅा', 'वर्ष', 'ऑनलाइन', 'फॉर्म', 'एडमिट', 'कार्ड', 'रिजल्ट', 'श्री', 'सूर्य', 'पुत्र', 'शनि', 'देव', 'मंदिर', 'श्रीमद्', 'भागवत', 'कथा', 'श्री', 'हनुमान', 'धाम', 'मंदिर', 'इटारसी', 'कार्यालय', 'जय', 'श्री', 'राम', 'जय', 'श्री', 'राम', 'पीने', 'का', 'पानी', 'पेप्सी', 'रेडियम', 'आर्ट', 'प्रो', 'राकेश', 'मालवीया', 'श्री', 'गणेशाय', 'नमः', 'सरयु', 'छात्रावास', 'शरावती', 'केंद्रीय', 'पुस्तकालय', 'छात्रावास', 'गति', 'सीमा', 'जनशताब्दी', 'एक्सप्रेस', 'हबीबगंज', 'जबलपुर', 'कार्यालय', 'वरिष्ठ', 'अनुभाग', 'अभियंता', 'रेल', 'पथ', 'अुन', 'प', 'म', 'रेल', 'इटारसी', 'अंथोनी', 'बालाजी', 'नायक', 'रामवथ', 'धनलक्ष्मी', 'एम', 'संपत', 'एम', 'श्रीदेवी', 'बी', 'सी', 'श्याम', 'कुमार', 'तकनीकी', 'कर्मचारी', 'रेल', 'डाक', 'सेवा', 'इटारसी', 'भारतीय', 'डाक', 'उद्यान', 'खुलने', 'व', 'बंद', 'होने', 'का', 'समय', 'सुबह', '०६०', 'से', '०७०', 'बजे', 'शाम', '१८००', 'से', '१९००', 'बजे', 'तक', 'सावधान', '२५००', 'यहाँ', 'टप', 'से', 'देना', 'हे', 'द्वितीय', 'श्रेणी', 'आपातकालीन', 'खिड़की', 'शिव', 'मन्दिर', 'लाभ', 'मप्र', 'शासन', 'द्वारा', 'मान्यता', 'प्राप्त', 'मो', 'रानी', 'अवंती', 'विद्या', 'निकेतन', 'हायर', 'सेकेंडरी', 'स्कूल', 'कक्षा', 'नर्सरी', 'से', '१२वीं', 'वाणिज्य', 'एवं', 'विज्ञान', 'हिंदी', 'एवं', 'अंग्रेजी', 'माध्यम', 'रामपुर', 'गुर्रा', 'स्वच्छ', 'सर्वेक्षण', 'हर', 'दिन', 'दो', 'डस्टबिन', 'साँईराम', 'प्याऊ', 'कंप्यूटर', 'विज्ञान', 'एवं', 'अभियांत्रिकी', 'विभाग', 'सीनियर', 'सेक्शन', 'इंजीनियर', 'कै', 'वै', 'रेक', 'अनुरक्षण', 'इटारसी', 'कार्यालय', 'सीनि', 'सेक्शन', 'इंजी', 'कै', 'वै', 'पैसे', 'स्टेशन', 'पश्चिम', 'मध्य', 'रेल', 'इटारसी', 'विकास', 'हार्डवेयर', 'इलेक्ट्रिकल्स', 'अल्ट्राटेक', 'इंजीनियर', 'की', 'पसांद', 'स्टेट', 'बैंक', 'ए', 'टी', 'एम', 'अलुम्नि', 'एवन्यू', 'पावनी', 'फोटो', 'कॉपी', 'कलर', 'एवं', 'ब्लेक', 'व्हाइट', 'एक', 'कदम', 'स्वच्छता', 'की', 'ओर', 'इटारसी', 'अनवर', 'भाई', 'मिनी', 'ट्रक', 'वृक्ष', 'धरा', 'के', 'भूषण', 'हें', 'करते', 'दूर', 'प्रदुषण', 'हें', 'पश्चिम', 'मध्य', 'रेल', 'लोको', 'पायलट', 'एवं', 'परिचालक', 'लॉबी', 'इटारसी', 'भारतीय', 'रेल', 'शस्त्रागार', 'रे', 'सु', 'ब', 'इटारसी', 'स्टे', 'भवानी', 'क्लब', 'दुर्गा', 'महोत्सव', 'आपका', 'हार्दिक', 'अभिनंदन', 'करता', 'है', '२९वां', 'वर्ष', 'स्टेशन', 'प्रबन्धक', 'अन्नपूर्णा', 'परिसर', 'न', 'पा', 'प', 'इटारसी', 'बाहरी', 'व्यक्तियों', 'का', 'प्रवेश', 'निषेध', 'यह', 'आम', 'रास्ता', 'नहीं', 'हैं', 'कार्यालय', 'रेल', 'सुरक्षा', 'बल', 'विशेष', 'खुपिया', 'शाखा', 'इटारसी', 'डीजल', 'लोको', 'शेड', 'इटारसी', 'ऑन', 'ड्यूटी', 'स्टॉफ', 'रूम', 'पश्चिम', 'मध्य', 'रेल', 'बुनयादी', 'प्रशिक्षण', 'केंद्र', 'कै', 'वै', 'इटारसी', 'भोपाल', 'मण्डल', 'श्रीराम', 'टी', 'स्टाल', 'धर्मेंद्', 'मेहरा', 'मो', 'तवा', 'गेट', 'के', 'सामने', 'इटारसी', 'मुस्कान', 'टेलर्स', 'दादा', 'जी', 'अनाज', 'किराना', 'एवं', 'जनरल', 'स्टोर्स', 'प्राची', 'लेडीस', 'टेलर्स', 'ई', 'ई', 'रजिस्ट्री', 'एवं', 'स्टाम्प', 'राजेंद्र', 'कुमार', 'मालवीय', 'मो', 'वेस्ट', 'सेंट्रल', 'रेलवे', 'एम्प्लाईज', 'यूनियन', 'शाखा', 'क्र', 'इटारसी', 'दुर्ग', 'भोपाल', 'सी', 'एच', 'ए', 'इलाहबाद', 'बैंक', 'भारत', 'सरकार', 'का', 'उपक्रम', 'इटारसी', 'शाखा', 'हम', 'सभी', 'का', 'यही', 'है', 'सपना', 'स्वच्छ', 'स्वच्छ', 'देश', 'हो', 'अपना', 'गुरु', 'कृपा', 'शीतल', 'जल', 'धन्यवाद्', 'जय', 'श्री', 'राम', 'बजरंग', 'चौराहा', 'बंगला', 'कार्यालय', 'अनुभाग', 'अभियंता', 'कार्य', 'भिन्न', 'क्षमतावालों', 'के', 'लिये', 'प्रथम', 'श्रेणी', 'वताकुलित', 'ए', 'सावधान', 'शहरी', 'छेत्र', 'कृपया', 'धीरे', 'चलियें', 'इटारसी', 'नगर', 'पालिका', 'बेटी', 'बेटी', 'पढ़ाओ', 'बचाओ', 'चोधरी', 'फर्नीचर', 'मार्ट', 'प्रो', 'डीडी', 'चोधरी', 'ईशान', 'टाउन', 'बंगले', 'लाख', 'से', 'प्रारंभ', 'मकान', 'किराये', 'से', 'देना', 'हैं', 'संपर्क', 'करें', 'चेन्नै', 'कडक्र्करै', 'तहसील', 'कार्यालय', 'पहुँच', 'मार्ग', 'यात्री', 'प्रतीक्षालय', 'आर्यभटटा', 'हॉल', 'एक', 'कदम', 'स्वच्छता', 'की', 'ओर', 'स्वच्छ', 'भारत', 'श्री', 'रामचंद्र', 'कृपाल', 'भज', 'मन', 'हरण', 'भव', 'भय', 'दारुणम्', 'नव', 'कंजलोचन', 'कंज', 'कंज', 'मुख', 'कर', 'कंजारुणम्', 'पद', 'कंप्यूटर', 'विजन', 'लैब', 'इटारसी', 'जं', 'समुद्र', 'तल', 'से', 'ऊँचाई', 'मी', 'पश्चिम', 'मध्य', 'रेल', 'विंध्याचल', 'अधिनस्थ', 'कर्मचारी', 'विश्राम', 'गृह', 'इटारसी', 'जंक्शन', 'नगर', 'पालिका', 'परिसद', 'इटारसी', 'सेल्फी', 'जोन', 'रेलवे', 'स्वास्थ्य', 'केन्द्र', 'इटारसी', 'पश्चिम', 'मध्य', 'रेल', 'रेलवे', 'स्वास्थ्य', 'केन्द्र', 'पश्चिम', 'मध्य', 'रेल', 'इटारसी', 'सरयु', 'छात्रावास', 'शरावती', 'केंद्रीय', 'पुस्तकालय', 'छात्रावास', 'सरदार', 'बल्लभ', 'भाई', 'पटैल', 'समाज', 'भवन', 'वर्मा', 'कालोनी', 'सरदार', 'पटैल', 'समाज', 'सेवा', 'समिती', 'इटारसी', 'भारतीय', 'डाक', 'इटारसी', 'मुख्य', 'डाकघर', 'कार्यालय', 'सीनियर', 'सेक्शन', 'इंजीनियर', 'संकेत', 'पमरे', 'इटारसी', 'स्वागत', 'वंदन', 'अभिनन्दन', 'श्री', 'सांई', 'सेवा', 'समिति', 'श्री', 'खेड़ापति', 'माता', 'मंदिर', 'सी', 'पी', 'ई', 'गेट', 'पुरानी', 'इटारसी', 'पश्चिम', 'मध्य', 'रेलवे', 'संजीवनी', 'उद्यान', 'इटारसी', 'भारतीय', 'रेल', 'के', 'गौरवपूर्ण', 'के', 'उपलक्ष्य', 'में', 'निर्मित', 'पुलिस', 'थाना', 'इटारसी', 'सौजन्य', 'से', 'सेंट्रल', 'बैंक', 'ऑफ़', 'इंडिया', 'इटारसी', 'मध्य', 'भारत', 'का', 'सर्वश्रेष्ठ', 'सरिया', 'इटारसी', 'ऑटो', 'डील', 'एंड', 'ट्रेवल्स', 'टू', 'व्हीलर', 'एवं', 'फोर', 'व्हीलर', 'वाहन', 'खरीदने', 'बेचने', 'एवं', 'एक्सचेंज', 'के', 'लिए', 'सम्पर्क', 'करें', 'मंदिर', 'परिसर', 'कैमरे', 'की', 'निगरानी', 'में', 'हैं', 'स्वान', 'दल', 'रेल', 'सुरक्षा', 'बल', 'सुरक्षा', 'से', 'न', 'करो', 'मस्ती', 'वरना', 'जिंदगी', 'पड़ेगी', 'सस्ती', 'मातृ', 'श्री', 'फोटो', 'कॉपी', 'रेलवे', 'आरक्षण', 'बिजली', 'बिल', 'कमलेश', 'पटैल', 'मो', 'भारतीय', 'रेल', 'नारियल', 'यहाँ', 'पर', 'फोड़े', 'सावधान', 'सावधान', 'आप', 'सी', 'सी', 'टी', 'वी', 'की', 'निगरानी', 'में', 'विश्रामालय', 'पेय', 'जल', 'प्लेटफार्म', '६व७', 'पीने', 'का', 'दिव्यांग', 'हेतु', 'ॐ', 'जय', 'श्री', 'राम', 'मंदिर', 'परिसर', 'कैमरे', 'की', 'निगरानी', 'में', 'हैं', 'आपके', 'द्वारा', 'फैलाई', 'गई', 'गंदगी', 'को', 'आपके', 'जैसा', 'ही', 'कोई', 'व्यक्ति', 'साफ', 'करता', 'है', 'पीने', 'का', 'पानी', 'केवल', 'दिव्यांग', 'हेतु', 'सुरक्षा', 'से', 'न', 'करो', 'मस्ती', 'वरना', 'जिंदगी', 'पड़ेगी', 'सस्ती', 'सोनी', 'जनरल', 'एवं', 'स्टेशनरी', 'जमानी', 'रोड', 'इटारसी', 'सोनी', 'जनरल', 'एवं', 'स्टेशनरी', 'फो', 'टो', 'कॉ', 'पी', 'फो', 'टो', 'का', 'पी', 'फो', 'टो', 'कॉ', 'पी', 'विश्व', 'हिन्दू', 'परिषद', 'बजरंग', 'दल', 'सुदामा', 'मैरिज', 'हॉल', 'प्रो', 'आकाश', 'गालर', 'वाहन', 'पार्किंग', 'अण्डर', 'फ्रेम', 'के', 'वाहा', 'में', 'स्थित', 'रेड', 'जैकिंग', 'पैड', 'उठायें', 'भोपाल', 'मंडल', 'पश्चिम', 'मध्य', 'मुख्य', 'परियोजनाए', 'बगरातवा', 'सोनतलाई', 'इटारसी', 'इटारसी', 'इटारसी', 'इटारसी', 'इटारसी', 'प्लेटफार्म', 'प्लेटफार्म', 'प्लेटफार्म', 'स्टेशन', 'स्टेशन', 'स्टेशन', 'स्टेशन', 'जबलपुर', 'मानिकपुर', '५६१', 'किमी', 'रेलवे', 'विद्युतीकरण', 'क्रमांक', '१', 'एवं', '४५', 'पर', 'का', 'प्रावधान', '१', '१', 'एवं', 'एवं', 'एवं', 'क्रमांक', 'क्रमांक', 'पर', 'के', 'यात्री', 'प्रतीक्षालय', 'में', 'सुधार', 'कार्य', 'कार्य', 'के', 'कार्य', 'का', 'वाशेबल', 'रिप्लेसमेंट', '३', '४', '५', 'का', '२६', '२६', 'ट्रेन', 'हेतु', '३', 'एप्रोन', 'रेलवे', 'विस्तार', 'पेच', 'डबलिंग', 'किमी', 'लिफ्ट', 'राम', 'बोलो', 'राम', 'बोलो', 'पश्चिम', 'मध्य', 'रेल', 'संसथान', 'इटारसी', 'जल', 'ही', 'जीवन', 'है', 'पीने', 'का', 'सादा', 'पानी', 'संदीप', 'ढोल', 'शादी', 'विवाह', 'पार्टी', 'एवं', 'अन्य', 'सभी', 'शुभ', 'कार्यक्रम', 'के', 'आर्डर', 'लिए', 'जाते', 'हैं', 'मेघना', 'नासरे', 'सर्व', 'शिक्षा', 'अभियान', 'सब', 'पढ़ें', 'सब', 'बढ़ें', 'माँ', 'विजयासन', 'देवी', 'दरबार', 'इटारसी', 'बाबा', 'टी', 'स्टॉल', 'एवं', 'नाश्ता']\n"
          ],
          "name": "stdout"
        }
      ]
    },
    {
      "cell_type": "markdown",
      "metadata": {
        "id": "asEaWtkcxQ6P"
      },
      "source": [
        "Encode Hindi Words"
      ]
    },
    {
      "cell_type": "code",
      "metadata": {
        "id": "2LbUiGrWxLo6"
      },
      "source": [
        "def gt_rep(word, letter2index,max_str_len = None, device = 'cpu'):\n",
        "  gt_rep = torch.zeros([max_str_len, 1], dtype=torch.long).to(device)\n",
        "  if len(word)<max_str_len:\n",
        "    diff = max_str_len-len(word)\n",
        "    word = ''.join((word,\" \"*diff))\n",
        "  for letter_index, letter in enumerate(word):\n",
        "    pos = letter2index[letter]\n",
        "    gt_rep[letter_index][0] = pos\n",
        "  return gt_rep"
      ],
      "execution_count": 87,
      "outputs": []
    },
    {
      "cell_type": "code",
      "metadata": {
        "id": "9Jlb9DdOQ3J2"
      },
      "source": [
        "class MyCollateClass:\n",
        "  def __init__(self,dim=1):\n",
        "    self.dim = dim\n",
        "\n",
        "  def stackTensors(self,itera):\n",
        "    return torch.stack(itera['image'])\n",
        "\n",
        "  def padTensor(self,Tensor,maxStrLen):\n",
        "    Tensor = Tensor.view(Tensor.shape[0],)\n",
        "    if Tensor.shape[0] == maxStrLen:return Tensor\n",
        "    else:\n",
        "      diff = maxStrLen - Tensor.shape[0]\n",
        "      return torch.cat([Tensor,torch.zeros(diff)],dim=0)\n",
        "\n",
        "\n",
        "  def PadCollate(self,batch):\n",
        "    finalDict = {}\n",
        "    Imglabel_list = list(((eDict['image'],eDict['label']) for eDict in batch))\n",
        "    ImgTensorList,LabelList = list(zip(*Imglabel_list))\n",
        "    #print(len(ImgTensorList),len(LabelList))\n",
        "    seqlenList = list((len(eTensor) for eTensor in LabelList))\n",
        "    maxStrLen = max(seqlenList)\n",
        "    #print(LabelList[0].shape)\n",
        "    paddedLabelList = list((self.padTensor(e_tensor,maxStrLen) for e_tensor in LabelList))\n",
        "    ImgTensor,LabelTensor = torch.stack(ImgTensorList),torch.stack(paddedLabelList)\n",
        "    finalDict = {\"Images\":ImgTensor,\"Label\":LabelTensor}\n",
        "    #print(ImgTensor.shape,LabelTensor.shape)\n",
        "    return finalDict\n",
        "\n",
        "  \n",
        "  def __call__(self,batch):\n",
        "    return self.PadCollate(batch)\n"
      ],
      "execution_count": 88,
      "outputs": []
    },
    {
      "cell_type": "code",
      "metadata": {
        "id": "gdzla2zFvHHR"
      },
      "source": [
        "class HindiTextDataset(Dataset):\n",
        "  def __init__(self,LabelList = None,RootDirectory = None,transform=None):\n",
        "    self.LabelList = LabelList\n",
        "    print(\"iter\")\n",
        "    self.root_dir = RootDirectory\n",
        "    self._get_max_str_len()\n",
        "    self.transform = transform\n",
        "\n",
        "  def __len__(self):\n",
        "    return len(self.LabelList)\n",
        "  \n",
        "  def _get_max_str_len(self):\n",
        "    temp = []\n",
        "    for e_str in self.LabelList:\n",
        "      counter = 0\n",
        "      for e_char in e_str:counter+=1\n",
        "      temp.append(counter)\n",
        "    self.max_str_len = max(temp)\n",
        "\n",
        "  \n",
        "  def __getitem__(self,idx):\n",
        "    #img_tensor = torch.tensor(io.imread(''.join([self.root_dir,str(idx),'.jpg'])),dtype = torch.float32)\n",
        "    img_tensor = io.imread(''.join([self.root_dir,str(idx),'.jpg']))\n",
        "    img_tensor = self.transform(img_tensor)\n",
        "    img_tensor = transforms.functional.resize(img_tensor,(128,128))\n",
        "    #torch.tensor(preprocessing.minmax_scale(img_tensor),dtype=torch.float32)\n",
        "    label_tensor = gt_rep(self.LabelList[idx],all_hindi_alpha,max_str_len = self.max_str_len)\n",
        "    #print(\"label tensor computed\")\n",
        "    sample = {'image':img_tensor,'label':label_tensor}\n",
        "    return sample"
      ],
      "execution_count": 89,
      "outputs": []
    },
    {
      "cell_type": "code",
      "metadata": {
        "id": "POD8uC43REx2"
      },
      "source": [
        "transform_batch = transforms.Compose([\n",
        "    transforms.ToTensor(),\n",
        "    transforms.Normalize((0.485, 0.456, 0.406), (0.229, 0.224, 0.225))])\n",
        "    "
      ],
      "execution_count": 90,
      "outputs": []
    },
    {
      "cell_type": "code",
      "metadata": {
        "colab": {
          "base_uri": "https://localhost:8080/"
        },
        "id": "RUT2z1V1Q0kV",
        "outputId": "e5938087-9ecd-458d-e26d-4395909ec800"
      },
      "source": [
        "TextDataset = HindiTextDataset(labelGenerator,\"cropped_dir/\",transform = transform_batch)\n"
      ],
      "execution_count": 91,
      "outputs": [
        {
          "output_type": "stream",
          "text": [
            "iter\n"
          ],
          "name": "stdout"
        }
      ]
    },
    {
      "cell_type": "code",
      "metadata": {
        "colab": {
          "base_uri": "https://localhost:8080/"
        },
        "id": "VyhH7_pdzFt8",
        "outputId": "48a4aff1-c5ae-4c8d-8dcb-74559d54db45"
      },
      "source": [
        "for i in range(len(TextDataset)):\n",
        "  print(\"Image Size : \",TextDataset[i][\"image\"].shape,\"Label Size : \",TextDataset[i][\"label\"].shape)\n",
        "  if i==3:\n",
        "    break"
      ],
      "execution_count": 92,
      "outputs": [
        {
          "output_type": "stream",
          "text": [
            "Image Size :  torch.Size([3, 128, 128]) Label Size :  torch.Size([14, 1])\n",
            "Image Size :  torch.Size([3, 128, 128]) Label Size :  torch.Size([14, 1])\n",
            "Image Size :  torch.Size([3, 128, 128]) Label Size :  torch.Size([14, 1])\n",
            "Image Size :  torch.Size([3, 128, 128]) Label Size :  torch.Size([14, 1])\n"
          ],
          "name": "stdout"
        }
      ]
    },
    {
      "cell_type": "markdown",
      "metadata": {
        "id": "fWoH6baT0Xvp"
      },
      "source": [
        "Custom Dataset Loader "
      ]
    },
    {
      "cell_type": "code",
      "metadata": {
        "id": "xwuHi9Yq0XHv"
      },
      "source": [
        "batch_size = 4\n",
        "dataloader1 = DataLoader(TextDataset, batch_size=batch_size,\n",
        "                        shuffle=True, num_workers=0)"
      ],
      "execution_count": 93,
      "outputs": []
    },
    {
      "cell_type": "markdown",
      "metadata": {
        "id": "jr5d-0TyWlV9"
      },
      "source": [
        "Show Sample Data"
      ]
    },
    {
      "cell_type": "code",
      "metadata": {
        "colab": {
          "base_uri": "https://localhost:8080/",
          "height": 269
        },
        "id": "FTEhHFNCYoaW",
        "outputId": "fcc2b6ed-a273-4ac7-be8b-a7c6791240c5"
      },
      "source": [
        "for ind,data in enumerate(dataloader1):\n",
        "  if ind>0:break\n",
        "  fig = plt.figure()\n",
        "  nrows,ncols = batch_size//2,batch_size//2\n",
        "  ax = fig.subplots(nrows,ncols)\n",
        "  counter = 0\n",
        "  for i in range(nrows):\n",
        "    for j in range(ncols):\n",
        "      ax[i,j].imshow(data['image'][counter][0])\n",
        "      counter+=1\n",
        "\n"
      ],
      "execution_count": 94,
      "outputs": [
        {
          "output_type": "display_data",
          "data": {
            "image/png": "[encoded data removed]",
            "text/plain": [
              "<Figure size 432x288 with 4 Axes>"
            ]
          },
          "metadata": {
            "tags": [],
            "needs_background": "light"
          }
        }
      ]
    },
    {
      "cell_type": "markdown",
      "metadata": {
        "id": "_dDmKd_Bc67r"
      },
      "source": [
        "# ENCODER PART"
      ]
    },
    {
      "cell_type": "code",
      "metadata": {
        "id": "NsfBN2KlRURU"
      },
      "source": [
        "class FeatureExtractor(nn.Module):\n",
        "  def __init__(self):\n",
        "    super().__init__()\n",
        "    self.encoder = nn.Sequential(\n",
        "        nn.Conv2d(3,64,3), ## (N,3,128,128) -> (N,64,124,124)\n",
        "        nn.ReLU(),\n",
        "        nn.AvgPool2d(2,2), ## (N,64,62,62)\n",
        "        nn.Conv2d(64,256,3), ## (N,64,62,62) -> (N,256,60,60)\n",
        "        nn.ReLU(),\n",
        "        nn.AvgPool2d(2,2), ## (N,256,30,30)\n",
        "        nn.Conv2d(256,512,5)\n",
        "    )\n",
        "\n",
        "  def forward(self,x):\n",
        "    ff_pass = self.encoder(x)\n",
        "    return ff_pass"
      ],
      "execution_count": 95,
      "outputs": []
    },
    {
      "cell_type": "markdown",
      "metadata": {
        "id": "F9hbO_VQdAk0"
      },
      "source": [
        "# DECODER PART"
      ]
    },
    {
      "cell_type": "code",
      "metadata": {
        "id": "g3K0MQuZBZ3S"
      },
      "source": [
        "## Extracted feature from CNN will act as input for Encoder-Decoder Model , each column x channel Depth on an input for the encoder-decoder model ## \n",
        "class LSTM_Net(nn.Module):\n",
        "  def __init__(self,input_size=None,batch_size=None,hidden_size=None,output_size=None,numLayers=1,numDirns=1):\n",
        "    self.hidden_size = hidden_size\n",
        "    self.batch_size = batch_size\n",
        "    self.numLayers = numLayers\n",
        "    self.numDirns = numDirns\n",
        "\n",
        "    super().__init__()\n",
        "    self.hidden_size = hidden_size\n",
        "    self.lstm_cell = nn.LSTM(input_size,hidden_size,batch_first=True)\n",
        "    self.h2o = nn.Linear(hidden_size,output_size)\n",
        "   \n",
        "\n",
        "  def forward(self,input,hidden):\n",
        "    out,hidden = self.lstm_cell(input,hidden)\n",
        "    output = self.h2o(out)\n",
        "    output = nn.functional.log_softmax(output,dim=2)\n",
        "    return output\n",
        "  \n",
        "  def init_hiddenlayer(self,device='cpu'):\n",
        "    return (torch.zeros(self.numLayers*self.numDirns,self.batch_size,self.hidden_size).to(device),torch.zeros(self.numLayers*self.numDirns,self.batch_size,self.hidden_size).to(device))\n"
      ],
      "execution_count": 110,
      "outputs": []
    },
    {
      "cell_type": "markdown",
      "metadata": {
        "id": "4LbXwlBVozoQ"
      },
      "source": [
        "# Inference & Accuracy"
      ]
    },
    {
      "cell_type": "code",
      "metadata": {
        "id": "xUPssYwaoyqZ"
      },
      "source": [
        "def _computeAccuracy(source,target):\n",
        "  def _convertTarget_toList(target):\n",
        "    for e_array in np.asarray(target.tolist()) :\n",
        "      newList = np.delete(e_array,np.where(e_array==0)).tolist()\n",
        "      yield newList\n",
        "\n",
        "  def _convertSource_toList(source):\n",
        "    source = source.detach()\n",
        "    source_idx = torch.argmax(source,dim=1)\n",
        "    finalList = []\n",
        "\n",
        "    for eList in source_idx:\n",
        "      idx = torch.where(eList==0)[0]\n",
        "      if len(idx)==0:continue\n",
        "      eList,idx = eList.int().tolist(),idx.int().tolist()\n",
        "      collapsedList = []\n",
        "      temp = 0\n",
        "      for i in idx:\n",
        "        if i ==idx[-1]:ss = list(OrderedDict.fromkeys(eList[temp:]))\n",
        "        else:\n",
        "          ss = list(OrderedDict.fromkeys(eList[temp:i]))\n",
        "        ss = [eVal for eVal in ss if eVal !=0]\n",
        "        if len(ss)!=0:\n",
        "          collapsedList.extend(ss)\n",
        "        temp = i\n",
        "      finalList.append(collapsedList)\n",
        "    yield finalList\n",
        "\n",
        "  \n",
        "  targetList = list(_convertTarget_toList(target))\n",
        "  sourceList = list(_convertSource_toList(source))[0]\n",
        "  score =0\n",
        "  partialScore = 0\n",
        "  for eSource,eTarget in zip(sourceList,targetList):\n",
        "    if set(eSource).issubset(eTarget) and len(eSource)==len(eTarget):score+=1\n",
        "    elif set(eSource).issubset(eTarget):partialScore+=1\n",
        "  \n",
        "  return partialScore/source.size()[0],score/source.size()[0]\n",
        "  \n",
        "  "
      ],
      "execution_count": 111,
      "outputs": []
    },
    {
      "cell_type": "markdown",
      "metadata": {
        "id": "lJfZwKhnoubz"
      },
      "source": [
        "# BatchTraining "
      ]
    },
    {
      "cell_type": "code",
      "metadata": {
        "id": "iaH4GM4uwuVV"
      },
      "source": [
        "def batchTrain(TextDataSet,EncoderModel=None,DecoderModel = None,lossFn=None,optimFn=None,batchSize=None,epochs=1,device='cpu'):\n",
        "  loadedData = DataLoader(TextDataset,batch_size=batchSize,shuffle=True)\n",
        "  maxLoss = 100000\n",
        "  ## Intialize both the models ##\n",
        "  for i in range(epochs):\n",
        "    cummLoss = 0\n",
        "    for ind,data in enumerate(loadedData):\n",
        "      if data['image'].size()[0]!=batchSize:continue\n",
        "      optimFn.zero_grad()\n",
        "      img_tensor = data['image'].to(device)\n",
        "      targets = data['label'].squeeze(2).to(device)\n",
        "      encoder_fpass = EncoderModel(img_tensor).permute(0,3,1,2)\n",
        "      encoder_fpass_new = encoder_fpass.view(encoder_fpass.shape[0],encoder_fpass.shape[1],-1)\n",
        "      hidden = DecoderObj.init_hiddenlayer(device)\n",
        "      decoder_fpass = DecoderObj(encoder_fpass_new,hidden).to(device)\n",
        "      input_lengths = torch.full(size=(decoder_fpass.size()[0],), fill_value=decoder_fpass.size()[1], dtype=torch.long).to(device)\n",
        "      target_lengths = torch.randint(low=1, high=targets.size()[1], size=(decoder_fpass.size()[0],), dtype=torch.long).to(device)\n",
        "      loss =  lossFn(decoder_fpass.permute(1,0,2),targets,input_lengths,target_lengths)\n",
        "      loss.backward()\n",
        "      optimFn.step()\n",
        "      cummLoss+=loss.item()*batchSize\n",
        "     \n",
        "    \n",
        "    loss_per_epoch = cummLoss/batchSize\n",
        "    if loss_per_epoch<maxLoss:\n",
        "      maxLoss = loss_per_epoch\n",
        "      torch.save({\n",
        "          'epoch': i,\n",
        "          'encoder_state_dict': EncoderModel.state_dict(),\n",
        "          'decoder_state_dict': DecoderModel.state_dict(),\n",
        "          'optimizer_state_dict': optimFn.state_dict(),\n",
        "          'loss': loss_per_epoch,\n",
        "          }, \"model_Text_Recognition.pt\")\n",
        "    print(\"Loss Per Epoch {} for epoch {} \".format(cummLoss/batchSize,i+1)) \n",
        "    partialScore,fullScore = _computeAccuracy(decoder_fpass,targets)\n",
        "    print(\"Partial Score --> {} , Full Score --> {}\".format (partialScore,fullScore))\n",
        "    \n"
      ],
      "execution_count": 112,
      "outputs": []
    },
    {
      "cell_type": "code",
      "metadata": {
        "id": "KejMsgJ0xsY9"
      },
      "source": [
        "## HYPERPARAMETERS\n",
        "batchSize = 100\n",
        "num_layers = 1\n",
        "num_dirn = 1\n",
        "hidden_size = 200\n",
        "lr = 0.0005"
      ],
      "execution_count": 113,
      "outputs": []
    },
    {
      "cell_type": "code",
      "metadata": {
        "id": "yiB9xTeiTY8X"
      },
      "source": [
        "ctc_loss = nn.CTCLoss()\n",
        "EncoderObj = FeatureExtractor().to(MyDevice)\n",
        "DecoderObj = LSTM_Net(input_size=512*26,batch_size=batchSize,hidden_size=hidden_size,output_size=len(all_hindi_alpha),numLayers=num_layers,numDirns=num_dirn).to(MyDevice)\n",
        "optimFn = optim.Adam(list(EncoderObj.parameters())+list(DecoderObj.parameters()),lr=lr)"
      ],
      "execution_count": 114,
      "outputs": []
    },
    {
      "cell_type": "code",
      "metadata": {
        "id": "dbNn4Io1qRS6",
        "colab": {
          "base_uri": "https://localhost:8080/",
          "height": 544
        },
        "outputId": "9a6426f9-f577-49f4-9e02-d1fb8fc97b02"
      },
      "source": [
        "batchTrain(TextDataset,EncoderModel=EncoderObj,DecoderModel=DecoderObj,lossFn=ctc_loss,optimFn=optimFn,batchSize=batchSize,epochs=,device=MyDevice)"
      ],
      "execution_count": 109,
      "outputs": [
        {
          "output_type": "stream",
          "text": [
            "tensor([[[-5.0605, -4.6760, -4.8311,  ..., -4.8236, -4.7261, -4.6858]],\n",
            "\n",
            "        [[-4.9534, -4.6972, -4.9109,  ..., -4.8884, -4.8670, -4.6819]],\n",
            "\n",
            "        [[-4.9656, -4.8439, -4.9600,  ..., -4.8731, -4.8794, -4.6804]],\n",
            "\n",
            "        ...,\n",
            "\n",
            "        [[-4.9497, -4.8260, -5.1818,  ..., -4.9202, -4.8521, -4.5456]],\n",
            "\n",
            "        [[-5.0774, -4.7283, -4.8481,  ..., -4.9241, -4.7888, -4.6382]],\n",
            "\n",
            "        [[-5.0716, -4.7174, -4.8806,  ..., -4.8664, -4.8353, -4.6645]]],\n",
            "       device='cuda:0', grad_fn=<LogSoftmaxBackward>)\n"
          ],
          "name": "stdout"
        },
        {
          "output_type": "error",
          "ename": "ZeroDivisionError",
          "evalue": "ignored",
          "traceback": [
            "\u001b[0;31m---------------------------------------------------------------------------\u001b[0m",
            "\u001b[0;31mZeroDivisionError\u001b[0m                         Traceback (most recent call last)",
            "\u001b[0;32m<ipython-input-109-4efaab61f9a5>\u001b[0m in \u001b[0;36m<module>\u001b[0;34m()\u001b[0m\n\u001b[0;32m----> 1\u001b[0;31m \u001b[0mbatchTrain\u001b[0m\u001b[0;34m(\u001b[0m\u001b[0mTextDataset\u001b[0m\u001b[0;34m,\u001b[0m\u001b[0mEncoderModel\u001b[0m\u001b[0;34m=\u001b[0m\u001b[0mEncoderObj\u001b[0m\u001b[0;34m,\u001b[0m\u001b[0mDecoderModel\u001b[0m\u001b[0;34m=\u001b[0m\u001b[0mDecoderObj\u001b[0m\u001b[0;34m,\u001b[0m\u001b[0mlossFn\u001b[0m\u001b[0;34m=\u001b[0m\u001b[0mctc_loss\u001b[0m\u001b[0;34m,\u001b[0m\u001b[0moptimFn\u001b[0m\u001b[0;34m=\u001b[0m\u001b[0moptimFn\u001b[0m\u001b[0;34m,\u001b[0m\u001b[0mbatchSize\u001b[0m\u001b[0;34m=\u001b[0m\u001b[0mbatchSize\u001b[0m\u001b[0;34m,\u001b[0m\u001b[0mepochs\u001b[0m\u001b[0;34m=\u001b[0m\u001b[0;36m20\u001b[0m\u001b[0;34m,\u001b[0m\u001b[0mdevice\u001b[0m\u001b[0;34m=\u001b[0m\u001b[0mMyDevice\u001b[0m\u001b[0;34m)\u001b[0m\u001b[0;34m\u001b[0m\u001b[0;34m\u001b[0m\u001b[0m\n\u001b[0m",
            "\u001b[0;32m<ipython-input-98-282a4e3b0246>\u001b[0m in \u001b[0;36mbatchTrain\u001b[0;34m(TextDataSet, EncoderModel, DecoderModel, lossFn, optimFn, batchSize, epochs, device)\u001b[0m\n\u001b[1;32m     13\u001b[0m       \u001b[0mencoder_fpass_new\u001b[0m \u001b[0;34m=\u001b[0m \u001b[0mencoder_fpass\u001b[0m\u001b[0;34m.\u001b[0m\u001b[0mview\u001b[0m\u001b[0;34m(\u001b[0m\u001b[0mencoder_fpass\u001b[0m\u001b[0;34m.\u001b[0m\u001b[0mshape\u001b[0m\u001b[0;34m[\u001b[0m\u001b[0;36m0\u001b[0m\u001b[0;34m]\u001b[0m\u001b[0;34m,\u001b[0m\u001b[0mencoder_fpass\u001b[0m\u001b[0;34m.\u001b[0m\u001b[0mshape\u001b[0m\u001b[0;34m[\u001b[0m\u001b[0;36m1\u001b[0m\u001b[0;34m]\u001b[0m\u001b[0;34m,\u001b[0m\u001b[0;34m-\u001b[0m\u001b[0;36m1\u001b[0m\u001b[0;34m)\u001b[0m\u001b[0;34m\u001b[0m\u001b[0;34m\u001b[0m\u001b[0m\n\u001b[1;32m     14\u001b[0m       \u001b[0mhidden\u001b[0m \u001b[0;34m=\u001b[0m \u001b[0mDecoderObj\u001b[0m\u001b[0;34m.\u001b[0m\u001b[0minit_hiddenlayer\u001b[0m\u001b[0;34m(\u001b[0m\u001b[0mdevice\u001b[0m\u001b[0;34m)\u001b[0m\u001b[0;34m\u001b[0m\u001b[0;34m\u001b[0m\u001b[0m\n\u001b[0;32m---> 15\u001b[0;31m       \u001b[0mdecoder_fpass\u001b[0m \u001b[0;34m=\u001b[0m \u001b[0mDecoderObj\u001b[0m\u001b[0;34m(\u001b[0m\u001b[0mencoder_fpass_new\u001b[0m\u001b[0;34m,\u001b[0m\u001b[0mhidden\u001b[0m\u001b[0;34m)\u001b[0m\u001b[0;34m.\u001b[0m\u001b[0mto\u001b[0m\u001b[0;34m(\u001b[0m\u001b[0mdevice\u001b[0m\u001b[0;34m)\u001b[0m\u001b[0;34m\u001b[0m\u001b[0;34m\u001b[0m\u001b[0m\n\u001b[0m\u001b[1;32m     16\u001b[0m       \u001b[0minput_lengths\u001b[0m \u001b[0;34m=\u001b[0m \u001b[0mtorch\u001b[0m\u001b[0;34m.\u001b[0m\u001b[0mfull\u001b[0m\u001b[0;34m(\u001b[0m\u001b[0msize\u001b[0m\u001b[0;34m=\u001b[0m\u001b[0;34m(\u001b[0m\u001b[0mdecoder_fpass\u001b[0m\u001b[0;34m.\u001b[0m\u001b[0msize\u001b[0m\u001b[0;34m(\u001b[0m\u001b[0;34m)\u001b[0m\u001b[0;34m[\u001b[0m\u001b[0;36m0\u001b[0m\u001b[0;34m]\u001b[0m\u001b[0;34m,\u001b[0m\u001b[0;34m)\u001b[0m\u001b[0;34m,\u001b[0m \u001b[0mfill_value\u001b[0m\u001b[0;34m=\u001b[0m\u001b[0mdecoder_fpass\u001b[0m\u001b[0;34m.\u001b[0m\u001b[0msize\u001b[0m\u001b[0;34m(\u001b[0m\u001b[0;34m)\u001b[0m\u001b[0;34m[\u001b[0m\u001b[0;36m1\u001b[0m\u001b[0;34m]\u001b[0m\u001b[0;34m,\u001b[0m \u001b[0mdtype\u001b[0m\u001b[0;34m=\u001b[0m\u001b[0mtorch\u001b[0m\u001b[0;34m.\u001b[0m\u001b[0mlong\u001b[0m\u001b[0;34m)\u001b[0m\u001b[0;34m.\u001b[0m\u001b[0mto\u001b[0m\u001b[0;34m(\u001b[0m\u001b[0mdevice\u001b[0m\u001b[0;34m)\u001b[0m\u001b[0;34m\u001b[0m\u001b[0;34m\u001b[0m\u001b[0m\n\u001b[1;32m     17\u001b[0m       \u001b[0mtarget_lengths\u001b[0m \u001b[0;34m=\u001b[0m \u001b[0mtorch\u001b[0m\u001b[0;34m.\u001b[0m\u001b[0mrandint\u001b[0m\u001b[0;34m(\u001b[0m\u001b[0mlow\u001b[0m\u001b[0;34m=\u001b[0m\u001b[0;36m1\u001b[0m\u001b[0;34m,\u001b[0m \u001b[0mhigh\u001b[0m\u001b[0;34m=\u001b[0m\u001b[0mtargets\u001b[0m\u001b[0;34m.\u001b[0m\u001b[0msize\u001b[0m\u001b[0;34m(\u001b[0m\u001b[0;34m)\u001b[0m\u001b[0;34m[\u001b[0m\u001b[0;36m1\u001b[0m\u001b[0;34m]\u001b[0m\u001b[0;34m,\u001b[0m \u001b[0msize\u001b[0m\u001b[0;34m=\u001b[0m\u001b[0;34m(\u001b[0m\u001b[0mdecoder_fpass\u001b[0m\u001b[0;34m.\u001b[0m\u001b[0msize\u001b[0m\u001b[0;34m(\u001b[0m\u001b[0;34m)\u001b[0m\u001b[0;34m[\u001b[0m\u001b[0;36m0\u001b[0m\u001b[0;34m]\u001b[0m\u001b[0;34m,\u001b[0m\u001b[0;34m)\u001b[0m\u001b[0;34m,\u001b[0m \u001b[0mdtype\u001b[0m\u001b[0;34m=\u001b[0m\u001b[0mtorch\u001b[0m\u001b[0;34m.\u001b[0m\u001b[0mlong\u001b[0m\u001b[0;34m)\u001b[0m\u001b[0;34m.\u001b[0m\u001b[0mto\u001b[0m\u001b[0;34m(\u001b[0m\u001b[0mdevice\u001b[0m\u001b[0;34m)\u001b[0m\u001b[0;34m\u001b[0m\u001b[0;34m\u001b[0m\u001b[0m\n",
            "\u001b[0;32m/usr/local/lib/python3.7/dist-packages/torch/nn/modules/module.py\u001b[0m in \u001b[0;36m_call_impl\u001b[0;34m(self, *input, **kwargs)\u001b[0m\n\u001b[1;32m    887\u001b[0m             \u001b[0mresult\u001b[0m \u001b[0;34m=\u001b[0m \u001b[0mself\u001b[0m\u001b[0;34m.\u001b[0m\u001b[0m_slow_forward\u001b[0m\u001b[0;34m(\u001b[0m\u001b[0;34m*\u001b[0m\u001b[0minput\u001b[0m\u001b[0;34m,\u001b[0m \u001b[0;34m**\u001b[0m\u001b[0mkwargs\u001b[0m\u001b[0;34m)\u001b[0m\u001b[0;34m\u001b[0m\u001b[0;34m\u001b[0m\u001b[0m\n\u001b[1;32m    888\u001b[0m         \u001b[0;32melse\u001b[0m\u001b[0;34m:\u001b[0m\u001b[0;34m\u001b[0m\u001b[0;34m\u001b[0m\u001b[0m\n\u001b[0;32m--> 889\u001b[0;31m             \u001b[0mresult\u001b[0m \u001b[0;34m=\u001b[0m \u001b[0mself\u001b[0m\u001b[0;34m.\u001b[0m\u001b[0mforward\u001b[0m\u001b[0;34m(\u001b[0m\u001b[0;34m*\u001b[0m\u001b[0minput\u001b[0m\u001b[0;34m,\u001b[0m \u001b[0;34m**\u001b[0m\u001b[0mkwargs\u001b[0m\u001b[0;34m)\u001b[0m\u001b[0;34m\u001b[0m\u001b[0;34m\u001b[0m\u001b[0m\n\u001b[0m\u001b[1;32m    890\u001b[0m         for hook in itertools.chain(\n\u001b[1;32m    891\u001b[0m                 \u001b[0m_global_forward_hooks\u001b[0m\u001b[0;34m.\u001b[0m\u001b[0mvalues\u001b[0m\u001b[0;34m(\u001b[0m\u001b[0;34m)\u001b[0m\u001b[0;34m,\u001b[0m\u001b[0;34m\u001b[0m\u001b[0;34m\u001b[0m\u001b[0m\n",
            "\u001b[0;32m<ipython-input-107-1700303d68ea>\u001b[0m in \u001b[0;36mforward\u001b[0;34m(self, input, hidden)\u001b[0m\n\u001b[1;32m     19\u001b[0m     \u001b[0moutput\u001b[0m \u001b[0;34m=\u001b[0m \u001b[0mnn\u001b[0m\u001b[0;34m.\u001b[0m\u001b[0mfunctional\u001b[0m\u001b[0;34m.\u001b[0m\u001b[0mlog_softmax\u001b[0m\u001b[0;34m(\u001b[0m\u001b[0moutput\u001b[0m\u001b[0;34m,\u001b[0m\u001b[0mdim\u001b[0m\u001b[0;34m=\u001b[0m\u001b[0;36m2\u001b[0m\u001b[0;34m)\u001b[0m\u001b[0;34m\u001b[0m\u001b[0;34m\u001b[0m\u001b[0m\n\u001b[1;32m     20\u001b[0m     \u001b[0mprint\u001b[0m\u001b[0;34m(\u001b[0m\u001b[0moutput\u001b[0m\u001b[0;34m)\u001b[0m\u001b[0;34m\u001b[0m\u001b[0;34m\u001b[0m\u001b[0m\n\u001b[0;32m---> 21\u001b[0;31m     \u001b[0;36m0\u001b[0m\u001b[0;34m/\u001b[0m\u001b[0;36m0\u001b[0m\u001b[0;34m\u001b[0m\u001b[0;34m\u001b[0m\u001b[0m\n\u001b[0m\u001b[1;32m     22\u001b[0m     \u001b[0;32mreturn\u001b[0m \u001b[0moutput\u001b[0m\u001b[0;34m\u001b[0m\u001b[0;34m\u001b[0m\u001b[0m\n\u001b[1;32m     23\u001b[0m \u001b[0;34m\u001b[0m\u001b[0m\n",
            "\u001b[0;31mZeroDivisionError\u001b[0m: division by zero"
          ]
        }
      ]
    },
    {
      "cell_type": "code",
      "metadata": {
        "id": "pWn8VjLe2n4F"
      },
      "source": [
        "checkpoint = torch.load('model_Text_Recognition.pt')\n",
        "EncoderObj.load_state_dict(checkpoint['encoder_state_dict'])\n",
        "DecoderObj.load_state_dict(checkpoint['decoder_state_dict'])\n",
        "optimFn.load_state_dict(checkpoint['optimizer_state_dict'])"
      ],
      "execution_count": null,
      "outputs": []
    }
  ]
}