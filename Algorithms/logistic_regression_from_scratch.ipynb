{
  "nbformat": 4,
  "nbformat_minor": 0,
  "metadata": {
    "colab": {
      "name": "logistic_regression_from_scratch.ipynb",
      "provenance": [],
      "collapsed_sections": [],
      "authorship_tag": "ABX9TyO3+Nf9OnL/QuKjrZO15J45",
      "include_colab_link": true
    },
    "kernelspec": {
      "name": "python3",
      "display_name": "Python 3"
    },
    "language_info": {
      "name": "python"
    }
  },
  "cells": [
    {
      "cell_type": "markdown",
      "metadata": {
        "id": "view-in-github",
        "colab_type": "text"
      },
      "source": [
        "<a href=\"https://colab.research.google.com/github/abhiraman/Capstone_Project/blob/main/Algorithms/logistic_regression_from_scratch.ipynb\" target=\"_parent\"><img src=\"https://colab.research.google.com/assets/colab-badge.svg\" alt=\"Open In Colab\"/></a>"
      ]
    },
    {
      "cell_type": "code",
      "source": [
        "import numpy as np\n",
        "import pandas as pd\n",
        "import sklearn\n",
        "import seaborn as sns\n",
        "import matplotlib.pyplot as plt\n",
        "from sklearn.model_selection import train_test_split"
      ],
      "metadata": {
        "id": "xRIxoN3JjSSB"
      },
      "execution_count": 1,
      "outputs": []
    },
    {
      "cell_type": "code",
      "execution_count": 69,
      "metadata": {
        "id": "-WGxI9CdK-Oc"
      },
      "outputs": [],
      "source": [
        "def sigmoid_fn(feature_vector,wt_vector,bias):\n",
        "  z = np.dot(feature_vector,wt_vector)+bias\n",
        "  #z = np.sum((total,np.ones(total.shape)*bias),axis=0)\n",
        "  return 1/(1+np.exp(-z))\n"
      ]
    },
    {
      "cell_type": "code",
      "source": [
        "def gradient(y_pred,y,feature_vec):\n",
        "  del_w = (y_pred-y)*feature_vec\n",
        "  del_b = (y_pred-y)\n",
        "  return del_w,del_b       ## shape as shape as input vector (# of features)\n"
      ],
      "metadata": {
        "id": "r76hAfBvnl0h"
      },
      "execution_count": 70,
      "outputs": []
    },
    {
      "cell_type": "code",
      "source": [
        "def bce_loss(y_pred,y):\n",
        "  return -((1-y)*np.log(1-y_pred)+(y*np.log(y_pred)))"
      ],
      "metadata": {
        "id": "bKTgmsMw0Bld"
      },
      "execution_count": 19,
      "outputs": []
    },
    {
      "cell_type": "code",
      "source": [
        "def intialize_params(wt_size):\n",
        "  ## 1D Convolution ##\n",
        "  wts = np.random.randn(wt_size)\n",
        "  bias = np.random.randn(1,)\n",
        "  return wts,bias\n",
        "\n"
      ],
      "metadata": {
        "id": "GZ7AuTydlZCL"
      },
      "execution_count": 71,
      "outputs": []
    },
    {
      "cell_type": "code",
      "source": [
        "def accuracy(y_pred,y):\n",
        "  right = 0\n",
        "  for i,j in zip(y_pred,y):\n",
        "    if i==j:right+=1\n",
        "  return (right/len(y_pred))*100"
      ],
      "metadata": {
        "id": "7IVDCWJQoFwH"
      },
      "execution_count": 34,
      "outputs": []
    },
    {
      "cell_type": "code",
      "source": [
        "def fit(input,target,epochs,lr=0.05):\n",
        "\n",
        "  wt,b = intialize_params(input.shape[1])\n",
        "  max_loss = 100000\n",
        "  \n",
        "  final_wt,final_bias = None,None\n",
        "  for i in range(epochs):\n",
        "    dw,db = 0,0\n",
        "    all_result = []\n",
        "    loss = 0\n",
        "    for inp,targ in zip(input,target):\n",
        "      y_pred = sigmoid_fn(inp,wt,b)\n",
        "      loss += bce_loss(y_pred,targ)\n",
        "      dw,db = gradient(y_pred,targ,inp)\n",
        "      \n",
        "      dw +=dw\n",
        "      db+=db\n",
        "      if y_pred>0.5: all_result.append(1)\n",
        "      else: all_result.append(0)\n",
        "\n",
        "      #if i%10==0:\n",
        "      wt -= dw*lr\n",
        "      b-=db*lr\n",
        "    if i%10==0:\n",
        "      print(\"Loss {} after {} Epochs\".format(loss/len(input),i))\n",
        "      print(\"Training Accuracy : {}\".format(accuracy(all_result,target.tolist())))\n",
        "    if loss<max_loss:\n",
        "      final_wt = wt\n",
        "      final_bias = b\n",
        "  return final_wt,final_bias\n",
        "\n",
        "    "
      ],
      "metadata": {
        "id": "7qDx2NTYzxRj"
      },
      "execution_count": 93,
      "outputs": []
    },
    {
      "cell_type": "code",
      "source": [
        "from sklearn.datasets import make_classification"
      ],
      "metadata": {
        "id": "Z2s1uoiPEKZr"
      },
      "execution_count": 77,
      "outputs": []
    },
    {
      "cell_type": "code",
      "source": [
        "X, y = make_classification(\n",
        "        n_samples=10, \n",
        "        n_features=2,\n",
        "        n_redundant=0,\n",
        "        n_informative=2,\n",
        "        random_state=1, \n",
        "        n_clusters_per_class=1)\n",
        "print(X)\n",
        "print(y)"
      ],
      "metadata": {
        "colab": {
          "base_uri": "https://localhost:8080/"
        },
        "id": "-d79QOMXDs7V",
        "outputId": "1f80808f-9da1-4804-d307-18e6f82bc721"
      },
      "execution_count": 89,
      "outputs": [
        {
          "output_type": "stream",
          "name": "stdout",
          "text": [
            "[[-0.64185521  0.78535215]\n",
            " [ 0.10972634  1.83671408]\n",
            " [-1.07362634  2.591487  ]\n",
            " [-1.38222372  0.85340843]\n",
            " [ 1.78689446  2.3841826 ]\n",
            " [ 0.94785273  3.53015683]\n",
            " [ 1.08876018  1.35925144]\n",
            " [ 0.42774158  3.54015499]\n",
            " [-0.88398194 -0.57876171]\n",
            " [-1.59347411  1.2168913 ]]\n",
            "[1 0 1 1 0 0 0 0 1 1]\n"
          ]
        }
      ]
    },
    {
      "cell_type": "code",
      "source": [
        "fit(X,y,100)"
      ],
      "metadata": {
        "colab": {
          "base_uri": "https://localhost:8080/"
        },
        "id": "Oq9SHxYQD47z",
        "outputId": "f1fdb23b-9bb4-4ffe-ee11-be1e4dd0c56b"
      },
      "execution_count": 94,
      "outputs": [
        {
          "output_type": "stream",
          "name": "stdout",
          "text": [
            "Loss [0.46363044] after 0 Epochs\n",
            "Training Accuracy : 90.0\n",
            "Loss [0.13019358] after 10 Epochs\n",
            "Training Accuracy : 100.0\n",
            "Loss [0.0867915] after 20 Epochs\n",
            "Training Accuracy : 100.0\n",
            "Loss [0.06742005] after 30 Epochs\n",
            "Training Accuracy : 100.0\n",
            "Loss [0.05594254] after 40 Epochs\n",
            "Training Accuracy : 100.0\n",
            "Loss [0.04816906] after 50 Epochs\n",
            "Training Accuracy : 100.0\n",
            "Loss [0.04247809] after 60 Epochs\n",
            "Training Accuracy : 100.0\n",
            "Loss [0.03809408] after 70 Epochs\n",
            "Training Accuracy : 100.0\n",
            "Loss [0.0345933] after 80 Epochs\n",
            "Training Accuracy : 100.0\n",
            "Loss [0.03172194] after 90 Epochs\n",
            "Training Accuracy : 100.0\n"
          ]
        },
        {
          "output_type": "execute_result",
          "data": {
            "text/plain": [
              "(array([-4.5500594 , -1.23318181]), array([0.88358081]))"
            ]
          },
          "metadata": {},
          "execution_count": 94
        }
      ]
    }
  ]
}